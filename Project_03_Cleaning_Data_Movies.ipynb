{
  "cells": [
    {
      "cell_type": "markdown",
      "metadata": {
        "id": "view-in-github",
        "colab_type": "text"
      },
      "source": [
        "<a href=\"https://colab.research.google.com/github/pistaacademy/Pandas-Project/blob/Project---3/Project_03_Cleaning_Data_Movies.ipynb\" target=\"_parent\"><img src=\"https://colab.research.google.com/assets/colab-badge.svg\" alt=\"Open In Colab\"/></a>"
      ]
    },
    {
      "cell_type": "markdown",
      "metadata": {
        "id": "Z7HCfpHSWQKs"
      },
      "source": [
        "## First Steps"
      ]
    },
    {
      "cell_type": "code",
      "execution_count": null,
      "metadata": {
        "id": "zfgUqqfDWQKs"
      },
      "outputs": [],
      "source": [
        "import pandas as pd\n"
      ]
    },
    {
      "cell_type": "code",
      "execution_count": null,
      "metadata": {
        "id": "PojtQx-mWQKt"
      },
      "outputs": [],
      "source": [
        "df = pd.read_csv(\"movies_dataset.csv\", low_memory=False)"
      ]
    },
    {
      "cell_type": "code",
      "execution_count": null,
      "metadata": {
        "id": "7HRC0ta0WQKt"
      },
      "outputs": [],
      "source": [
        "df"
      ]
    },
    {
      "cell_type": "code",
      "execution_count": null,
      "metadata": {
        "id": "Q4Me7EvZWQKu"
      },
      "outputs": [],
      "source": [
        "df.info()"
      ]
    },
    {
      "cell_type": "code",
      "execution_count": null,
      "metadata": {
        "id": "moEpFPcZWQKu"
      },
      "outputs": [],
      "source": [
        "df.genres[0]"
      ]
    },
    {
      "cell_type": "code",
      "execution_count": null,
      "metadata": {
        "id": "g38c92QPWQKu"
      },
      "outputs": [],
      "source": [
        "df.belongs_to_collection[0]"
      ]
    },
    {
      "cell_type": "markdown",
      "metadata": {
        "id": "UBwWwM6PWQKu"
      },
      "source": [
        "## Dropping irrelevant Columns"
      ]
    },
    {
      "cell_type": "code",
      "execution_count": null,
      "metadata": {
        "id": "mjDcFa1GWQKv"
      },
      "outputs": [],
      "source": [
        "df.info()"
      ]
    },
    {
      "cell_type": "code",
      "execution_count": null,
      "metadata": {
        "id": "JY3id1ySWQKv"
      },
      "outputs": [],
      "source": [
        "df.adult.value_counts()"
      ]
    },
    {
      "cell_type": "code",
      "execution_count": null,
      "metadata": {
        "id": "B2xYj3pbWQKv"
      },
      "outputs": [],
      "source": [
        "df.drop(columns = ['adult'], inplace = True)"
      ]
    },
    {
      "cell_type": "code",
      "execution_count": null,
      "metadata": {
        "id": "kRhR57mzWQKv"
      },
      "outputs": [],
      "source": [
        "df.drop(columns = ['imdb_id'], inplace = True)"
      ]
    },
    {
      "cell_type": "code",
      "execution_count": null,
      "metadata": {
        "id": "JmTnk7QrWQKv"
      },
      "outputs": [],
      "source": [
        "df.drop(columns = ['original_title'], inplace = True)"
      ]
    },
    {
      "cell_type": "code",
      "execution_count": null,
      "metadata": {
        "id": "pN2qPYJXWQKv"
      },
      "outputs": [],
      "source": [
        "df.drop(columns = ['video'], inplace= True)"
      ]
    },
    {
      "cell_type": "code",
      "execution_count": null,
      "metadata": {
        "id": "eXBq_rImWQKw"
      },
      "outputs": [],
      "source": [
        "df.drop(columns = ['homepage'], inplace= True)"
      ]
    },
    {
      "cell_type": "code",
      "execution_count": null,
      "metadata": {
        "id": "EV0U9WDiWQKw"
      },
      "outputs": [],
      "source": []
    },
    {
      "cell_type": "markdown",
      "metadata": {
        "id": "_T5pjNSEWQKw"
      },
      "source": [
        "## How to handle stringified JSON columns (Part 1)"
      ]
    },
    {
      "cell_type": "code",
      "execution_count": null,
      "metadata": {
        "id": "llQxiS4lWQKw"
      },
      "outputs": [],
      "source": [
        "import json\n",
        "import ast"
      ]
    },
    {
      "cell_type": "code",
      "execution_count": null,
      "metadata": {
        "id": "jGyUZH-MWQKw"
      },
      "outputs": [],
      "source": [
        "json_col = [\"belongs_to_collection\", \"genres\", \"production_countries\", \n",
        "            \"production_companies\", \"spoken_languages\"]"
      ]
    },
    {
      "cell_type": "code",
      "execution_count": null,
      "metadata": {
        "id": "7ccR81zZWQKw"
      },
      "outputs": [],
      "source": [
        "df.belongs_to_collection[0]"
      ]
    },
    {
      "cell_type": "code",
      "execution_count": null,
      "metadata": {
        "id": "Naha1eNkWQKx"
      },
      "outputs": [],
      "source": [
        "json1 =  \"{'dog':3, 'cat':5}\""
      ]
    },
    {
      "cell_type": "code",
      "execution_count": null,
      "metadata": {
        "id": "_xxFiGLRWQKx"
      },
      "outputs": [],
      "source": [
        "#json.loads(json1)"
      ]
    },
    {
      "cell_type": "code",
      "execution_count": null,
      "metadata": {
        "id": "K9dVxNHqWQKx"
      },
      "outputs": [],
      "source": [
        "json2 = '{\"dog\":3, \"cat\":5}'"
      ]
    },
    {
      "cell_type": "code",
      "execution_count": null,
      "metadata": {
        "id": "qsRzFUK7WQKx"
      },
      "outputs": [],
      "source": [
        "json.loads(json2)"
      ]
    },
    {
      "cell_type": "code",
      "execution_count": null,
      "metadata": {
        "id": "2wBT4I5zWQKx"
      },
      "outputs": [],
      "source": [
        "json1.replace(\"'\", '\"')"
      ]
    },
    {
      "cell_type": "code",
      "execution_count": null,
      "metadata": {
        "id": "Uux1CfFlWQKx"
      },
      "outputs": [],
      "source": [
        "json.loads(json1.replace(\"'\", '\"'))"
      ]
    },
    {
      "cell_type": "code",
      "execution_count": null,
      "metadata": {
        "id": "tDp31ZX3WQKy"
      },
      "outputs": [],
      "source": [
        "df.genres.apply(lambda x: json.loads(x.replace(\"'\", '\"')))[0]"
      ]
    },
    {
      "cell_type": "code",
      "execution_count": null,
      "metadata": {
        "id": "OvWFGcy2WQKy"
      },
      "outputs": [],
      "source": [
        "ast.literal_eval(json1)"
      ]
    },
    {
      "cell_type": "code",
      "execution_count": null,
      "metadata": {
        "id": "uqEGffMTWQKy"
      },
      "outputs": [],
      "source": [
        "ast.literal_eval(json2)"
      ]
    },
    {
      "cell_type": "code",
      "execution_count": null,
      "metadata": {
        "id": "tmIPDWi1WQKy"
      },
      "outputs": [],
      "source": [
        "df.genres.apply(ast.literal_eval)[0]"
      ]
    },
    {
      "cell_type": "code",
      "execution_count": null,
      "metadata": {
        "id": "8BxuGdIVWQKy"
      },
      "outputs": [],
      "source": [
        "df.genres = df.genres.apply(ast.literal_eval)"
      ]
    },
    {
      "cell_type": "code",
      "execution_count": null,
      "metadata": {
        "id": "9H9yWS2QWQKy"
      },
      "outputs": [],
      "source": [
        "#df.loc[:, json_col].apply(ast.literal_eval, axis = 0)"
      ]
    },
    {
      "cell_type": "code",
      "execution_count": null,
      "metadata": {
        "id": "QlXHQQRKWQKy"
      },
      "outputs": [],
      "source": [
        "#ast.literal_eval(0)"
      ]
    },
    {
      "cell_type": "code",
      "execution_count": null,
      "metadata": {
        "id": "UXVVfWtuWQKy"
      },
      "outputs": [],
      "source": []
    },
    {
      "cell_type": "markdown",
      "metadata": {
        "id": "H506iYvkWQKz"
      },
      "source": [
        "## How to handle stringified JSON columns (Part 2)"
      ]
    },
    {
      "cell_type": "code",
      "execution_count": null,
      "metadata": {
        "id": "-t2MQg_XWQKz"
      },
      "outputs": [],
      "source": [
        "import numpy as np"
      ]
    },
    {
      "cell_type": "code",
      "execution_count": null,
      "metadata": {
        "id": "PyAqAhmsWQKz"
      },
      "outputs": [],
      "source": [
        "df.belongs_to_collection"
      ]
    },
    {
      "cell_type": "code",
      "execution_count": null,
      "metadata": {
        "id": "CHPXPUWPWQKz"
      },
      "outputs": [],
      "source": [
        "df.belongs_to_collection.apply(lambda x: isinstance(x, str))"
      ]
    },
    {
      "cell_type": "code",
      "execution_count": null,
      "metadata": {
        "id": "VUGSqYtuWQKz"
      },
      "outputs": [],
      "source": [
        "df.belongs_to_collection = df.belongs_to_collection.apply(lambda x: ast.literal_eval(x) if isinstance(x, str) else np.nan)"
      ]
    },
    {
      "cell_type": "code",
      "execution_count": null,
      "metadata": {
        "id": "Atl2UnXlWQKz"
      },
      "outputs": [],
      "source": [
        "df.belongs_to_collection [0]"
      ]
    },
    {
      "cell_type": "code",
      "execution_count": null,
      "metadata": {
        "id": "qDTd_OyuWQKz"
      },
      "outputs": [],
      "source": [
        "df.spoken_languages"
      ]
    },
    {
      "cell_type": "code",
      "execution_count": null,
      "metadata": {
        "id": "xczHs-xvWQK0"
      },
      "outputs": [],
      "source": [
        "df.spoken_languages = df.spoken_languages.apply(lambda x: ast.literal_eval(x) if isinstance(x, str) else np.nan)"
      ]
    },
    {
      "cell_type": "code",
      "execution_count": null,
      "metadata": {
        "id": "7gTIbW8EWQK0"
      },
      "outputs": [],
      "source": [
        "df.production_countries"
      ]
    },
    {
      "cell_type": "code",
      "execution_count": null,
      "metadata": {
        "id": "kowqp19OWQK0"
      },
      "outputs": [],
      "source": [
        "df.production_countries = df.production_countries.apply(lambda x: ast.literal_eval(x) if isinstance(x, str) else np.nan)"
      ]
    },
    {
      "cell_type": "code",
      "execution_count": null,
      "metadata": {
        "id": "lNxechKMWQK0"
      },
      "outputs": [],
      "source": [
        "df.production_companies "
      ]
    },
    {
      "cell_type": "code",
      "execution_count": null,
      "metadata": {
        "id": "90RT3evkWQK0"
      },
      "outputs": [],
      "source": [
        "df.production_companies = df.production_companies.apply(lambda x: ast.literal_eval(x) if isinstance(x, str) else np.nan)"
      ]
    },
    {
      "cell_type": "code",
      "execution_count": null,
      "metadata": {
        "id": "-UzTV2kVWQK0"
      },
      "outputs": [],
      "source": [
        "df"
      ]
    },
    {
      "cell_type": "code",
      "execution_count": null,
      "metadata": {
        "id": "1KhoFJyzWQK0"
      },
      "outputs": [],
      "source": []
    },
    {
      "cell_type": "markdown",
      "metadata": {
        "id": "3ePLe1p9WQK1"
      },
      "source": [
        "## How to flatten nested Columns"
      ]
    },
    {
      "cell_type": "code",
      "execution_count": null,
      "metadata": {
        "id": "belVHYXAWQK1"
      },
      "outputs": [],
      "source": [
        "df.belongs_to_collection[0]"
      ]
    },
    {
      "cell_type": "code",
      "execution_count": null,
      "metadata": {
        "id": "BOkCSUEFWQK1"
      },
      "outputs": [],
      "source": [
        "df.belongs_to_collection = df.belongs_to_collection.apply(lambda x: x['name'] if isinstance(x, dict) else np.nan) "
      ]
    },
    {
      "cell_type": "code",
      "execution_count": null,
      "metadata": {
        "id": "fCp3G556WQK1"
      },
      "outputs": [],
      "source": [
        "df.belongs_to_collection.value_counts(dropna = False).head(20)"
      ]
    },
    {
      "cell_type": "code",
      "execution_count": null,
      "metadata": {
        "id": "tust_QivWQK1"
      },
      "outputs": [],
      "source": [
        "df.genres[0]"
      ]
    },
    {
      "cell_type": "code",
      "execution_count": null,
      "metadata": {
        "id": "hMgiGHAgWQK1"
      },
      "outputs": [],
      "source": [
        "df.genres = df.genres.apply(lambda x: \"|\".join(i['name'] for i in x))"
      ]
    },
    {
      "cell_type": "code",
      "execution_count": null,
      "metadata": {
        "id": "FsQ7M5Y_WQK1"
      },
      "outputs": [],
      "source": [
        "df.genres[0]"
      ]
    },
    {
      "cell_type": "code",
      "execution_count": null,
      "metadata": {
        "id": "0fTzb6-_WQK1"
      },
      "outputs": [],
      "source": [
        "df.genres.value_counts(dropna = False).head(20)"
      ]
    },
    {
      "cell_type": "code",
      "execution_count": null,
      "metadata": {
        "id": "_7GO2mp_WQK1"
      },
      "outputs": [],
      "source": [
        "df.genres.replace(\"\", np.nan, inplace = True)"
      ]
    },
    {
      "cell_type": "code",
      "execution_count": null,
      "metadata": {
        "id": "C7AZLxidWQK2"
      },
      "outputs": [],
      "source": [
        "df.spoken_languages"
      ]
    },
    {
      "cell_type": "code",
      "execution_count": null,
      "metadata": {
        "id": "bHNAPxWOWQK2"
      },
      "outputs": [],
      "source": [
        "df.spoken_languages = df.spoken_languages.apply(lambda x: \"|\".join(i['name'] for i in x) if isinstance(x, list) else np.nan) "
      ]
    },
    {
      "cell_type": "code",
      "execution_count": null,
      "metadata": {
        "id": "p0YD4DLZWQK2"
      },
      "outputs": [],
      "source": [
        "df.spoken_languages.value_counts(dropna = False).head(20)"
      ]
    },
    {
      "cell_type": "code",
      "execution_count": null,
      "metadata": {
        "id": "HSbXtSwrWQK2"
      },
      "outputs": [],
      "source": [
        "df.spoken_languages.replace(\"\", np.nan, inplace = True)"
      ]
    },
    {
      "cell_type": "code",
      "execution_count": null,
      "metadata": {
        "id": "WJ8NUsYtWQK2"
      },
      "outputs": [],
      "source": [
        "df.production_countries"
      ]
    },
    {
      "cell_type": "code",
      "execution_count": null,
      "metadata": {
        "id": "liOd_60CWQK2"
      },
      "outputs": [],
      "source": [
        "df.production_countries = df.production_countries.apply(lambda x: \"|\".join(i['name'] for i in x) if isinstance(x, list) else np.nan)"
      ]
    },
    {
      "cell_type": "code",
      "execution_count": null,
      "metadata": {
        "id": "veOa2NMVWQK2"
      },
      "outputs": [],
      "source": [
        "df.production_countries.value_counts(dropna = False).head(20)"
      ]
    },
    {
      "cell_type": "code",
      "execution_count": null,
      "metadata": {
        "id": "yh19uielWQK3"
      },
      "outputs": [],
      "source": [
        "df.production_countries.replace(\"\", np.nan, inplace = True)"
      ]
    },
    {
      "cell_type": "code",
      "execution_count": null,
      "metadata": {
        "id": "hlTPH1SoWQK3"
      },
      "outputs": [],
      "source": [
        "df.production_companies"
      ]
    },
    {
      "cell_type": "code",
      "execution_count": null,
      "metadata": {
        "id": "sBaPwtPuWQK3"
      },
      "outputs": [],
      "source": [
        "df.production_companies = df.production_companies.apply(lambda x: \"|\".join(i['name'] for i in x) if isinstance(x, list) else np.nan) "
      ]
    },
    {
      "cell_type": "code",
      "execution_count": null,
      "metadata": {
        "id": "hsiCjL_uWQK3"
      },
      "outputs": [],
      "source": [
        "df.production_companies.value_counts(dropna = False).head(20)"
      ]
    },
    {
      "cell_type": "code",
      "execution_count": null,
      "metadata": {
        "id": "-VaysDQTWQK3"
      },
      "outputs": [],
      "source": [
        "df.production_companies.replace(\"\", np.nan, inplace = True)"
      ]
    },
    {
      "cell_type": "code",
      "execution_count": null,
      "metadata": {
        "id": "7r7b3ggTWQK3"
      },
      "outputs": [],
      "source": [
        "df.isna().sum()"
      ]
    },
    {
      "cell_type": "code",
      "execution_count": null,
      "metadata": {
        "id": "MUvS4DrtWQK3"
      },
      "outputs": [],
      "source": [
        "pd.read_csv(\"movies_metadata.csv\", low_memory=False).isna().sum()"
      ]
    },
    {
      "cell_type": "code",
      "execution_count": null,
      "metadata": {
        "id": "lN2-cmeqWQK4"
      },
      "outputs": [],
      "source": []
    },
    {
      "cell_type": "markdown",
      "metadata": {
        "id": "-_zrZNZFWQK4"
      },
      "source": [
        "## Cleaning Numerical Columns (Part 1)"
      ]
    },
    {
      "cell_type": "code",
      "execution_count": null,
      "metadata": {
        "id": "n3t9X7taWQK4"
      },
      "outputs": [],
      "source": [
        "df.info()"
      ]
    },
    {
      "cell_type": "code",
      "execution_count": null,
      "metadata": {
        "id": "Oq1HGqvpWQK4"
      },
      "outputs": [],
      "source": [
        "#df.budget.astype(\"float\")"
      ]
    },
    {
      "cell_type": "code",
      "execution_count": null,
      "metadata": {
        "scrolled": true,
        "id": "CyGT6fj1WQK4"
      },
      "outputs": [],
      "source": [
        "#pd.to_numeric(df.budget)"
      ]
    },
    {
      "cell_type": "code",
      "execution_count": null,
      "metadata": {
        "scrolled": true,
        "id": "fxX1PsqCWQK4"
      },
      "outputs": [],
      "source": [
        "df.budget = pd.to_numeric(df.budget, errors = \"coerce\")"
      ]
    },
    {
      "cell_type": "code",
      "execution_count": null,
      "metadata": {
        "id": "gYZ08KH2WQK4"
      },
      "outputs": [],
      "source": [
        "df.budget.value_counts(dropna = False)"
      ]
    },
    {
      "cell_type": "code",
      "execution_count": null,
      "metadata": {
        "id": "wCEL9zMcWQK4"
      },
      "outputs": [],
      "source": [
        "df.budget = df.budget.replace(0, np.nan)"
      ]
    },
    {
      "cell_type": "code",
      "execution_count": null,
      "metadata": {
        "id": "-rIHgEXZWQK4"
      },
      "outputs": [],
      "source": [
        "df.budget = df.budget.div(1000000)"
      ]
    },
    {
      "cell_type": "code",
      "execution_count": null,
      "metadata": {
        "id": "a0yTu6aIWQK5"
      },
      "outputs": [],
      "source": [
        "df.info()"
      ]
    },
    {
      "cell_type": "code",
      "execution_count": null,
      "metadata": {
        "id": "bKX6X62tWQK5"
      },
      "outputs": [],
      "source": [
        "df.revenue.value_counts(dropna = False)"
      ]
    },
    {
      "cell_type": "code",
      "execution_count": null,
      "metadata": {
        "id": "vFM1_v5wWQK5"
      },
      "outputs": [],
      "source": [
        "df.revenue = df.revenue.replace(0, np.nan)\n",
        "df.revenue = df.revenue.div(1000000)"
      ]
    },
    {
      "cell_type": "code",
      "execution_count": null,
      "metadata": {
        "id": "gcKPe47IWQK5"
      },
      "outputs": [],
      "source": [
        "df.rename(columns = {\"revenue\":\"revenue_musd\", \"budget\":\"budget_musd\"}, inplace = True)"
      ]
    },
    {
      "cell_type": "code",
      "execution_count": null,
      "metadata": {
        "id": "XMNPd7voWQK5"
      },
      "outputs": [],
      "source": [
        "df.info()"
      ]
    },
    {
      "cell_type": "code",
      "execution_count": null,
      "metadata": {
        "id": "kAma2aMbWQK5"
      },
      "outputs": [],
      "source": []
    },
    {
      "cell_type": "markdown",
      "metadata": {
        "id": "mgwY64t1WQK5"
      },
      "source": [
        "## Cleaning Numerical Columns (Part 2)"
      ]
    },
    {
      "cell_type": "code",
      "execution_count": null,
      "metadata": {
        "id": "hl3imS4GWQK5"
      },
      "outputs": [],
      "source": [
        "df.runtime.value_counts(dropna = False).head(20)"
      ]
    },
    {
      "cell_type": "code",
      "execution_count": null,
      "metadata": {
        "id": "56D3PNVFWQK5"
      },
      "outputs": [],
      "source": [
        "df.runtime = df.runtime.replace(0, np.nan)"
      ]
    },
    {
      "cell_type": "code",
      "execution_count": null,
      "metadata": {
        "id": "jhjUiqQLWQK5"
      },
      "outputs": [],
      "source": [
        "df.info()"
      ]
    },
    {
      "cell_type": "code",
      "execution_count": null,
      "metadata": {
        "id": "IEYY6_3sWQK6"
      },
      "outputs": [],
      "source": [
        "#pd.to_numeric(df.id)"
      ]
    },
    {
      "cell_type": "code",
      "execution_count": null,
      "metadata": {
        "id": "jnAIUShhWQK6"
      },
      "outputs": [],
      "source": [
        "df.id = pd.to_numeric(df.id, errors = \"coerce\")"
      ]
    },
    {
      "cell_type": "code",
      "execution_count": null,
      "metadata": {
        "id": "eMFowXqpWQK6"
      },
      "outputs": [],
      "source": [
        "df.id.value_counts(dropna = False).head(20)"
      ]
    },
    {
      "cell_type": "code",
      "execution_count": null,
      "metadata": {
        "id": "LZlL7YDAWQK6"
      },
      "outputs": [],
      "source": [
        "df.info()"
      ]
    },
    {
      "cell_type": "code",
      "execution_count": null,
      "metadata": {
        "id": "EcZ0nD1BWQK6"
      },
      "outputs": [],
      "source": [
        "df.popularity"
      ]
    },
    {
      "cell_type": "code",
      "execution_count": null,
      "metadata": {
        "id": "_mgOx6xpWQK6"
      },
      "outputs": [],
      "source": [
        "#pd.to_numeric(df.popularity)"
      ]
    },
    {
      "cell_type": "code",
      "execution_count": null,
      "metadata": {
        "id": "sxN7n0MTWQK6"
      },
      "outputs": [],
      "source": [
        "df.popularity = pd.to_numeric(df.popularity, errors='coerce')"
      ]
    },
    {
      "cell_type": "code",
      "execution_count": null,
      "metadata": {
        "id": "DWLVou_zWQK6"
      },
      "outputs": [],
      "source": [
        "df.popularity.value_counts(dropna = False).head(20)"
      ]
    },
    {
      "cell_type": "code",
      "execution_count": null,
      "metadata": {
        "id": "wtEq8H0pWQK6"
      },
      "outputs": [],
      "source": [
        "df.vote_count.value_counts(dropna = False).head(20)"
      ]
    },
    {
      "cell_type": "code",
      "execution_count": null,
      "metadata": {
        "id": "W8S2V_UYWQK7"
      },
      "outputs": [],
      "source": [
        "df.vote_average.value_counts(dropna = False).head(20)"
      ]
    },
    {
      "cell_type": "code",
      "execution_count": null,
      "metadata": {
        "id": "nK_RbEvtWQK7"
      },
      "outputs": [],
      "source": [
        "df.loc[df.vote_count == 0, \"vote_average\"]"
      ]
    },
    {
      "cell_type": "code",
      "execution_count": null,
      "metadata": {
        "id": "arjyLnYZWQK7"
      },
      "outputs": [],
      "source": [
        "df.loc[df.vote_count == 0, \"vote_average\"] = np.nan"
      ]
    },
    {
      "cell_type": "code",
      "execution_count": null,
      "metadata": {
        "id": "x3YzOeLtWQK7"
      },
      "outputs": [],
      "source": [
        "df.info()"
      ]
    },
    {
      "cell_type": "code",
      "execution_count": null,
      "metadata": {
        "id": "ifYIZKeBWQK7"
      },
      "outputs": [],
      "source": []
    },
    {
      "cell_type": "markdown",
      "metadata": {
        "id": "hy0IxK2IWQK7"
      },
      "source": [
        "## Cleaning DateTime Columns"
      ]
    },
    {
      "cell_type": "code",
      "execution_count": null,
      "metadata": {
        "id": "1JJHGAsdWQK7"
      },
      "outputs": [],
      "source": [
        "df.info()"
      ]
    },
    {
      "cell_type": "code",
      "execution_count": null,
      "metadata": {
        "id": "x9WIQ8stWQK8"
      },
      "outputs": [],
      "source": [
        "df.release_date"
      ]
    },
    {
      "cell_type": "code",
      "execution_count": null,
      "metadata": {
        "id": "1JyfG4pbWQK8"
      },
      "outputs": [],
      "source": [
        "#pd.to_datetime(df.release_date)"
      ]
    },
    {
      "cell_type": "code",
      "execution_count": null,
      "metadata": {
        "id": "HKagn2XlWQK8"
      },
      "outputs": [],
      "source": [
        "df.release_date = pd.to_datetime(df.release_date, errors = \"coerce\")"
      ]
    },
    {
      "cell_type": "code",
      "execution_count": null,
      "metadata": {
        "id": "s51rVRR5WQK8"
      },
      "outputs": [],
      "source": [
        "df.release_date.value_counts(dropna = False).head(20)"
      ]
    },
    {
      "cell_type": "code",
      "execution_count": null,
      "metadata": {
        "id": "Vjv7Tou4WQK8"
      },
      "outputs": [],
      "source": []
    },
    {
      "cell_type": "markdown",
      "metadata": {
        "id": "eR1x015SWQK8"
      },
      "source": [
        "## Cleaning Text / String Columns"
      ]
    },
    {
      "cell_type": "code",
      "execution_count": null,
      "metadata": {
        "id": "Y3V-tfpmWQK8"
      },
      "outputs": [],
      "source": [
        "df.info()"
      ]
    },
    {
      "cell_type": "code",
      "execution_count": null,
      "metadata": {
        "id": "bcqtxOAQWQK8"
      },
      "outputs": [],
      "source": [
        "df.original_language.value_counts(dropna = False).head(50)"
      ]
    },
    {
      "cell_type": "code",
      "execution_count": null,
      "metadata": {
        "id": "O1pJ9AANWQK8"
      },
      "outputs": [],
      "source": [
        "df.title"
      ]
    },
    {
      "cell_type": "code",
      "execution_count": null,
      "metadata": {
        "id": "sL_SK1KHWQK9"
      },
      "outputs": [],
      "source": [
        "df.title.value_counts(dropna = False).head(20)"
      ]
    },
    {
      "cell_type": "code",
      "execution_count": null,
      "metadata": {
        "id": "KqBbJKs9WQK9"
      },
      "outputs": [],
      "source": [
        "df.overview[0]"
      ]
    },
    {
      "cell_type": "code",
      "execution_count": null,
      "metadata": {
        "id": "ucG6Vi-7WQK9"
      },
      "outputs": [],
      "source": [
        "df.overview.value_counts(dropna = False).head(20)"
      ]
    },
    {
      "cell_type": "code",
      "execution_count": null,
      "metadata": {
        "id": "KA_kTB_xWQK9"
      },
      "outputs": [],
      "source": [
        "df.overview.replace(\"No overview found.\", np.nan, inplace = True)"
      ]
    },
    {
      "cell_type": "code",
      "execution_count": null,
      "metadata": {
        "id": "EEc17rfZWQK9"
      },
      "outputs": [],
      "source": [
        "df.overview.replace(\"No Overview\", np.nan, inplace = True)"
      ]
    },
    {
      "cell_type": "code",
      "execution_count": null,
      "metadata": {
        "id": "0ZnojSxfWQK9"
      },
      "outputs": [],
      "source": [
        "df.overview.replace(\"No movie overview available.\", np.nan, inplace = True)"
      ]
    },
    {
      "cell_type": "code",
      "execution_count": null,
      "metadata": {
        "id": "X70ZubP-WQK9"
      },
      "outputs": [],
      "source": [
        "df.overview.replace(\" \", np.nan, inplace = True)"
      ]
    },
    {
      "cell_type": "code",
      "execution_count": null,
      "metadata": {
        "id": "t39S8HL3WQK9"
      },
      "outputs": [],
      "source": [
        "df.overview.replace(\"No overview yet.\", np.nan, inplace = True)"
      ]
    },
    {
      "cell_type": "code",
      "execution_count": null,
      "metadata": {
        "id": "4UOa2zJVWQK9"
      },
      "outputs": [],
      "source": [
        "df.tagline.value_counts(dropna = False).head(50)"
      ]
    },
    {
      "cell_type": "code",
      "execution_count": null,
      "metadata": {
        "id": "T2luIjkUWQK-"
      },
      "outputs": [],
      "source": [
        "df.tagline.replace(\"-\", np.nan, inplace = True)"
      ]
    },
    {
      "cell_type": "code",
      "execution_count": null,
      "metadata": {
        "id": "OXBgOKxiWQK-"
      },
      "outputs": [],
      "source": []
    },
    {
      "cell_type": "markdown",
      "metadata": {
        "id": "9SKtjNc1WQK-"
      },
      "source": [
        "## Removing Duplicates"
      ]
    },
    {
      "cell_type": "code",
      "execution_count": null,
      "metadata": {
        "scrolled": false,
        "id": "f6hbqqmiWQK-"
      },
      "outputs": [],
      "source": [
        "df[df.duplicated(keep =  False)].sort_values(by = \"id\")"
      ]
    },
    {
      "cell_type": "code",
      "execution_count": null,
      "metadata": {
        "id": "CmJ9w6eOWQK-"
      },
      "outputs": [],
      "source": [
        "df.drop_duplicates(inplace = True)"
      ]
    },
    {
      "cell_type": "code",
      "execution_count": null,
      "metadata": {
        "scrolled": false,
        "id": "gWVzwbMKWQK-"
      },
      "outputs": [],
      "source": [
        "df[df.duplicated(subset = \"id\", keep = False)].sort_values(by = \"id\")"
      ]
    },
    {
      "cell_type": "code",
      "execution_count": null,
      "metadata": {
        "id": "nlxW3lirWQK-"
      },
      "outputs": [],
      "source": [
        "df.drop_duplicates(subset = \"id\", inplace = True)"
      ]
    },
    {
      "cell_type": "code",
      "execution_count": null,
      "metadata": {
        "id": "U_8WcsDiWQK-"
      },
      "outputs": [],
      "source": [
        "df.id.value_counts(dropna = False)"
      ]
    },
    {
      "cell_type": "code",
      "execution_count": null,
      "metadata": {
        "id": "UrgcMVYbWQK_"
      },
      "outputs": [],
      "source": []
    },
    {
      "cell_type": "markdown",
      "metadata": {
        "id": "soL72_nDWQK_"
      },
      "source": [
        "## Handling Missing Values & Removing Observations"
      ]
    },
    {
      "cell_type": "code",
      "execution_count": null,
      "metadata": {
        "id": "PAbS6lDKWQK_"
      },
      "outputs": [],
      "source": [
        "df.info()"
      ]
    },
    {
      "cell_type": "code",
      "execution_count": null,
      "metadata": {
        "id": "4VQk5fJsWQK_"
      },
      "outputs": [],
      "source": [
        "df.isna().sum()"
      ]
    },
    {
      "cell_type": "code",
      "execution_count": null,
      "metadata": {
        "id": "O7cMZa_0WQK_"
      },
      "outputs": [],
      "source": [
        "df[df.title.isna()]"
      ]
    },
    {
      "cell_type": "code",
      "execution_count": null,
      "metadata": {
        "id": "BjZJlXnoWQK_"
      },
      "outputs": [],
      "source": [
        "df.dropna(subset = [\"id\", \"title\"], inplace = True)"
      ]
    },
    {
      "cell_type": "code",
      "execution_count": null,
      "metadata": {
        "id": "TpJGYYSeWQK_"
      },
      "outputs": [],
      "source": [
        "df.id = df.id.astype(\"int\")"
      ]
    },
    {
      "cell_type": "code",
      "execution_count": null,
      "metadata": {
        "id": "aJ5fNJ_EWQLA"
      },
      "outputs": [],
      "source": [
        "df.notna().sum(axis = 1).value_counts().sort_values(ascending = False)"
      ]
    },
    {
      "cell_type": "code",
      "execution_count": null,
      "metadata": {
        "id": "9xevmOxSWQLA"
      },
      "outputs": [],
      "source": [
        "df[df.notna().sum(axis = 1) == 6]"
      ]
    },
    {
      "cell_type": "code",
      "execution_count": null,
      "metadata": {
        "id": "A83JHbnHWQLA"
      },
      "outputs": [],
      "source": [
        "df.dropna(thresh = 10, inplace = True)"
      ]
    },
    {
      "cell_type": "code",
      "execution_count": null,
      "metadata": {
        "id": "6Ad1NGIhWQLA"
      },
      "outputs": [],
      "source": [
        "df.info()"
      ]
    },
    {
      "cell_type": "code",
      "execution_count": null,
      "metadata": {
        "id": "rMfpxPkdWQLA"
      },
      "outputs": [],
      "source": [
        "df.isna().sum()"
      ]
    },
    {
      "cell_type": "code",
      "execution_count": null,
      "metadata": {
        "id": "fcM2RVmxWQLA"
      },
      "outputs": [],
      "source": []
    },
    {
      "cell_type": "markdown",
      "metadata": {
        "id": "OZiw3UYbWQLA"
      },
      "source": [
        "## Final (Cleaning) Steps"
      ]
    },
    {
      "cell_type": "code",
      "execution_count": null,
      "metadata": {
        "id": "8x5Ra-TGWQLA"
      },
      "outputs": [],
      "source": [
        "df.status.value_counts()"
      ]
    },
    {
      "cell_type": "code",
      "execution_count": null,
      "metadata": {
        "id": "JGKeQYVgWQLB"
      },
      "outputs": [],
      "source": [
        "df = df.loc[df.status == \"Released\"].copy()"
      ]
    },
    {
      "cell_type": "code",
      "execution_count": null,
      "metadata": {
        "id": "sdcs4ecQWQLB"
      },
      "outputs": [],
      "source": [
        "df.drop(columns = [\"status\"], inplace = True)"
      ]
    },
    {
      "cell_type": "code",
      "execution_count": null,
      "metadata": {
        "id": "leAOhItvWQLB"
      },
      "outputs": [],
      "source": [
        "col = [\"id\", \"title\", \"tagline\", \"release_date\", \"genres\", \"belongs_to_collection\", \n",
        "       \"original_language\", \"budget_musd\", \"revenue_musd\", \"production_companies\",\n",
        "       \"production_countries\", \"vote_count\", \"vote_average\", \"popularity\", \"runtime\",\n",
        "       \"overview\", \"spoken_languages\", \"poster_path\"]"
      ]
    },
    {
      "cell_type": "code",
      "execution_count": null,
      "metadata": {
        "id": "wnU59xWGWQLB"
      },
      "outputs": [],
      "source": [
        "df = df.loc[:, col]"
      ]
    },
    {
      "cell_type": "code",
      "execution_count": null,
      "metadata": {
        "id": "ywis8_6_WQLB"
      },
      "outputs": [],
      "source": [
        "df"
      ]
    },
    {
      "cell_type": "code",
      "execution_count": null,
      "metadata": {
        "id": "Q-2tGT5dWQLB"
      },
      "outputs": [],
      "source": [
        "df.reset_index(drop = True, inplace =True)"
      ]
    },
    {
      "cell_type": "code",
      "execution_count": null,
      "metadata": {
        "id": "d5q44POtWQLB"
      },
      "outputs": [],
      "source": [
        "df.info()"
      ]
    },
    {
      "cell_type": "code",
      "execution_count": null,
      "metadata": {
        "id": "opl7d_kSWQLB"
      },
      "outputs": [],
      "source": [
        "df.poster_path[0]"
      ]
    },
    {
      "cell_type": "code",
      "execution_count": null,
      "metadata": {
        "id": "tKV_8LtmWQLC"
      },
      "outputs": [],
      "source": [
        "base_poster_url = 'http://image.tmdb.org/t/p/w185/'\n",
        "df.poster_path = \"<img src='\" + base_poster_url + df.poster_path + \"' style='height:100px;'>\""
      ]
    },
    {
      "cell_type": "code",
      "execution_count": null,
      "metadata": {
        "id": "13xHaZ2oWQLC"
      },
      "outputs": [],
      "source": [
        "df.to_csv(\"movies_clean.csv\", index = False)"
      ]
    },
    {
      "cell_type": "code",
      "execution_count": null,
      "metadata": {
        "id": "O7lPAiftWQLC"
      },
      "outputs": [],
      "source": [
        "pd.read_csv(\"movies_clean.csv\").info()"
      ]
    },
    {
      "cell_type": "code",
      "execution_count": null,
      "metadata": {
        "id": "8tft3VMhWQLC"
      },
      "outputs": [],
      "source": []
    }
  ],
  "metadata": {
    "kernelspec": {
      "display_name": "Python 3",
      "language": "python",
      "name": "python3"
    },
    "language_info": {
      "codemirror_mode": {
        "name": "ipython",
        "version": 3
      },
      "file_extension": ".py",
      "mimetype": "text/x-python",
      "name": "python",
      "nbconvert_exporter": "python",
      "pygments_lexer": "ipython3",
      "version": "3.7.4"
    },
    "colab": {
      "provenance": [],
      "include_colab_link": true
    }
  },
  "nbformat": 4,
  "nbformat_minor": 0
}